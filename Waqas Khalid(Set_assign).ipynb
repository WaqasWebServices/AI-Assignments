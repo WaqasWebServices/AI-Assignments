{
 "cells": [
  {
   "cell_type": "code",
   "execution_count": 39,
   "id": "7819c38c-b9cf-48e7-810c-86747d65f7ae",
   "metadata": {},
   "outputs": [
    {
     "data": {
      "text/plain": [
       "{0, 1, 5, 7, 9, 18, 41}"
      ]
     },
     "execution_count": 39,
     "metadata": {},
     "output_type": "execute_result"
    }
   ],
   "source": [
    "c= {5,1,7,0,5,41,18,9}\n",
    "c\n"
   ]
  },
  {
   "cell_type": "code",
   "execution_count": 40,
   "id": "aff3e4eb-c541-47c3-91e6-72b0ba62efab",
   "metadata": {},
   "outputs": [
    {
     "data": {
      "text/plain": [
       "set"
      ]
     },
     "execution_count": 40,
     "metadata": {},
     "output_type": "execute_result"
    }
   ],
   "source": [
    "type(c)"
   ]
  },
  {
   "cell_type": "code",
   "execution_count": 41,
   "id": "44ee1d2b-b7d3-49b1-8738-5a93eb710dd7",
   "metadata": {},
   "outputs": [
    {
     "data": {
      "text/plain": [
       "{0, 1, 5, 7, 9, 11, 18, 41}"
      ]
     },
     "execution_count": 41,
     "metadata": {},
     "output_type": "execute_result"
    }
   ],
   "source": [
    "c.add(11)\n",
    "c"
   ]
  },
  {
   "cell_type": "code",
   "execution_count": 42,
   "id": "627f0c97-60fe-4a6e-8ebd-6b80be640013",
   "metadata": {},
   "outputs": [
    {
     "data": {
      "text/plain": [
       "{0, 1, 5, 7, 9, 11, 18, 41}"
      ]
     },
     "execution_count": 42,
     "metadata": {},
     "output_type": "execute_result"
    }
   ],
   "source": [
    "c.difference()"
   ]
  },
  {
   "cell_type": "code",
   "execution_count": 43,
   "id": "f6e67ddb-936e-4363-9f3b-3369c9a87490",
   "metadata": {},
   "outputs": [
    {
     "data": {
      "text/plain": [
       "{0, 1, 5, 7, 9, 18, 41}"
      ]
     },
     "execution_count": 43,
     "metadata": {},
     "output_type": "execute_result"
    }
   ],
   "source": [
    "c.discard(11)\n",
    "c\n"
   ]
  },
  {
   "cell_type": "code",
   "execution_count": 44,
   "id": "9885789f-f3d3-499f-8b1b-2853abb1ca35",
   "metadata": {},
   "outputs": [
    {
     "data": {
      "text/plain": [
       "{0, 1, 5, 7, 9, 18, 41}"
      ]
     },
     "execution_count": 44,
     "metadata": {},
     "output_type": "execute_result"
    }
   ],
   "source": [
    "c.intersection()"
   ]
  },
  {
   "cell_type": "code",
   "execution_count": 45,
   "id": "c92c9e5b-5cf4-4be3-aa2d-7b31bfb53506",
   "metadata": {},
   "outputs": [
    {
     "data": {
      "text/plain": [
       "True"
      ]
     },
     "execution_count": 45,
     "metadata": {},
     "output_type": "execute_result"
    }
   ],
   "source": [
    "c.isdisjoint(\"b\")"
   ]
  },
  {
   "cell_type": "code",
   "execution_count": 46,
   "id": "d67181b0-7638-4f83-bd0a-e0e9bc2935cd",
   "metadata": {},
   "outputs": [
    {
     "data": {
      "text/plain": [
       "False"
      ]
     },
     "execution_count": 46,
     "metadata": {},
     "output_type": "execute_result"
    }
   ],
   "source": [
    "d={4,5}\n",
    "c.issubset(d)"
   ]
  },
  {
   "cell_type": "code",
   "execution_count": 47,
   "id": "f790e659-0351-486a-8a36-91a1463fad2c",
   "metadata": {},
   "outputs": [
    {
     "data": {
      "text/plain": [
       "{0, 1, 18, 41, 5, 7, 9, 'F', 'a', 'i', 'z'}"
      ]
     },
     "execution_count": 47,
     "metadata": {},
     "output_type": "execute_result"
    }
   ],
   "source": [
    "c.update(\"Faiz\")\n",
    "c"
   ]
  }
 ],
 "metadata": {
  "kernelspec": {
   "display_name": "Python 3 (ipykernel)",
   "language": "python",
   "name": "python3"
  },
  "language_info": {
   "codemirror_mode": {
    "name": "ipython",
    "version": 3
   },
   "file_extension": ".py",
   "mimetype": "text/x-python",
   "name": "python",
   "nbconvert_exporter": "python",
   "pygments_lexer": "ipython3",
   "version": "3.13.2"
  }
 },
 "nbformat": 4,
 "nbformat_minor": 5
}
