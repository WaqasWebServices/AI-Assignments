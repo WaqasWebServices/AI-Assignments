{
 "cells": [
  {
   "cell_type": "code",
   "execution_count": 64,
   "id": "c9a3cb5b-dbdb-42ad-a0a6-bf32f622dfca",
   "metadata": {},
   "outputs": [],
   "source": [
    "a= [5,1,10,66,4,6,7,8,23,0]"
   ]
  },
  {
   "cell_type": "code",
   "execution_count": 65,
   "id": "1c1984ca-fdf0-4201-af0d-69e6cbec90c4",
   "metadata": {},
   "outputs": [
    {
     "data": {
      "text/plain": [
       "[5, 1, 10, 66, 4, 6, 7, 8, 23, 0]"
      ]
     },
     "execution_count": 65,
     "metadata": {},
     "output_type": "execute_result"
    }
   ],
   "source": [
    "a"
   ]
  },
  {
   "cell_type": "code",
   "execution_count": 66,
   "id": "942891ca-f022-4276-9714-b5533820188d",
   "metadata": {},
   "outputs": [
    {
     "data": {
      "text/plain": [
       "list"
      ]
     },
     "execution_count": 66,
     "metadata": {},
     "output_type": "execute_result"
    }
   ],
   "source": [
    "type(a)"
   ]
  },
  {
   "cell_type": "code",
   "execution_count": 67,
   "id": "9e989626-a4da-406c-bc13-7dfe38674690",
   "metadata": {},
   "outputs": [],
   "source": [
    "a.append(510)"
   ]
  },
  {
   "cell_type": "code",
   "execution_count": 68,
   "id": "a54fd2ec-749d-4131-b395-819c2e304492",
   "metadata": {},
   "outputs": [
    {
     "data": {
      "text/plain": [
       "[5, 1, 10, 66, 4, 6, 7, 8, 23, 0, 510]"
      ]
     },
     "execution_count": 68,
     "metadata": {},
     "output_type": "execute_result"
    }
   ],
   "source": [
    "a"
   ]
  },
  {
   "cell_type": "code",
   "execution_count": 69,
   "id": "73991662-23f4-4377-b3e5-ad2b92a2c683",
   "metadata": {},
   "outputs": [],
   "source": [
    "a.sort()"
   ]
  },
  {
   "cell_type": "code",
   "execution_count": 70,
   "id": "a64f8d5e-3969-421c-8c96-4af643443b62",
   "metadata": {},
   "outputs": [
    {
     "data": {
      "text/plain": [
       "[0, 1, 4, 5, 6, 7, 8, 10, 23, 66, 510]"
      ]
     },
     "execution_count": 70,
     "metadata": {},
     "output_type": "execute_result"
    }
   ],
   "source": [
    "a"
   ]
  },
  {
   "cell_type": "code",
   "execution_count": 71,
   "id": "051eb206-a457-4993-8411-71cfab3d7e39",
   "metadata": {},
   "outputs": [],
   "source": [
    "a.reverse()"
   ]
  },
  {
   "cell_type": "code",
   "execution_count": 72,
   "id": "33fb756b-44a8-42c9-b75e-e47355d98645",
   "metadata": {},
   "outputs": [
    {
     "data": {
      "text/plain": [
       "[510, 66, 23, 10, 8, 7, 6, 5, 4, 1, 0]"
      ]
     },
     "execution_count": 72,
     "metadata": {},
     "output_type": "execute_result"
    }
   ],
   "source": [
    "a"
   ]
  },
  {
   "cell_type": "code",
   "execution_count": 73,
   "id": "c97d95c2-03d7-4c58-bdff-62ff1d395c2f",
   "metadata": {},
   "outputs": [],
   "source": [
    "a.remove(510)"
   ]
  },
  {
   "cell_type": "code",
   "execution_count": 74,
   "id": "960b4ea4-44b9-44f9-99f0-a63f8fcf903d",
   "metadata": {},
   "outputs": [
    {
     "data": {
      "text/plain": [
       "[66, 23, 10, 8, 7, 6, 5, 4, 1, 0]"
      ]
     },
     "execution_count": 74,
     "metadata": {},
     "output_type": "execute_result"
    }
   ],
   "source": [
    "a"
   ]
  },
  {
   "cell_type": "code",
   "execution_count": 75,
   "id": "29cfde0c-9f87-499e-b506-627b1b5706b2",
   "metadata": {},
   "outputs": [],
   "source": [
    "popped_value=a.pop()"
   ]
  },
  {
   "cell_type": "code",
   "execution_count": 76,
   "id": "2efa1289-b3ca-41aa-b786-4aa8da760c36",
   "metadata": {},
   "outputs": [
    {
     "data": {
      "text/plain": [
       "0"
      ]
     },
     "execution_count": 76,
     "metadata": {},
     "output_type": "execute_result"
    }
   ],
   "source": [
    "popped_value"
   ]
  },
  {
   "cell_type": "code",
   "execution_count": 77,
   "id": "e1464896-4532-40d3-b956-b0ae30ea4d59",
   "metadata": {},
   "outputs": [
    {
     "data": {
      "text/plain": [
       "[66, 23, 10, 8, 7, 6, 5, 4, 1]"
      ]
     },
     "execution_count": 77,
     "metadata": {},
     "output_type": "execute_result"
    }
   ],
   "source": [
    "a"
   ]
  },
  {
   "cell_type": "code",
   "execution_count": 78,
   "id": "ec527960-9e69-47a7-9c18-391bca7f1656",
   "metadata": {},
   "outputs": [],
   "source": [
    "a.insert(37,22)"
   ]
  },
  {
   "cell_type": "code",
   "execution_count": 79,
   "id": "7fce026c-f6d9-48a5-9f3f-ea2ae9817cc5",
   "metadata": {},
   "outputs": [
    {
     "data": {
      "text/plain": [
       "[66, 23, 10, 8, 7, 6, 5, 4, 1, 22]"
      ]
     },
     "execution_count": 79,
     "metadata": {},
     "output_type": "execute_result"
    }
   ],
   "source": [
    "a"
   ]
  },
  {
   "cell_type": "code",
   "execution_count": 80,
   "id": "9b133b6d-9d5a-42fa-9c8c-6dd5abcd4b15",
   "metadata": {},
   "outputs": [
    {
     "data": {
      "text/plain": [
       "8"
      ]
     },
     "execution_count": 80,
     "metadata": {},
     "output_type": "execute_result"
    }
   ],
   "source": [
    "a.index(1)"
   ]
  },
  {
   "cell_type": "code",
   "execution_count": 81,
   "id": "d35ae299-d2e3-493d-8e1e-9fdffd08a5af",
   "metadata": {},
   "outputs": [
    {
     "data": {
      "text/plain": [
       "6"
      ]
     },
     "execution_count": 81,
     "metadata": {},
     "output_type": "execute_result"
    }
   ],
   "source": [
    "a.index(5)"
   ]
  },
  {
   "cell_type": "code",
   "execution_count": 82,
   "id": "eb8c921f-c2e7-4ec4-966c-f6a766f9847e",
   "metadata": {},
   "outputs": [
    {
     "data": {
      "text/plain": [
       "0"
      ]
     },
     "execution_count": 82,
     "metadata": {},
     "output_type": "execute_result"
    }
   ],
   "source": [
    "a.count(9)"
   ]
  },
  {
   "cell_type": "code",
   "execution_count": 83,
   "id": "c858db09-dcaa-4082-a72d-2dd861a20192",
   "metadata": {},
   "outputs": [],
   "source": [
    "a.extend(\"Hamna\")"
   ]
  },
  {
   "cell_type": "code",
   "execution_count": 84,
   "id": "a103abae-526e-448c-ab37-928c4fe1f17c",
   "metadata": {},
   "outputs": [
    {
     "data": {
      "text/plain": [
       "[66, 23, 10, 8, 7, 6, 5, 4, 1, 22, 'H', 'a', 'm', 'n', 'a']"
      ]
     },
     "execution_count": 84,
     "metadata": {},
     "output_type": "execute_result"
    }
   ],
   "source": [
    "a"
   ]
  },
  {
   "cell_type": "code",
   "execution_count": 85,
   "id": "cc96e81e-177c-4f44-9336-12b63b6cb6e5",
   "metadata": {},
   "outputs": [],
   "source": [
    "b=a.copy()"
   ]
  },
  {
   "cell_type": "code",
   "execution_count": 86,
   "id": "9ca976ac-a6f0-4478-b35c-79e6c2eb6a5c",
   "metadata": {},
   "outputs": [
    {
     "data": {
      "text/plain": [
       "[66, 23, 10, 8, 7, 6, 5, 4, 1, 22, 'H', 'a', 'm', 'n', 'a']"
      ]
     },
     "execution_count": 86,
     "metadata": {},
     "output_type": "execute_result"
    }
   ],
   "source": [
    "b"
   ]
  },
  {
   "cell_type": "code",
   "execution_count": 87,
   "id": "b9c70a29-c3e2-4d68-b8ba-a382510582a3",
   "metadata": {},
   "outputs": [
    {
     "data": {
      "text/plain": [
       "'a'"
      ]
     },
     "execution_count": 87,
     "metadata": {},
     "output_type": "execute_result"
    }
   ],
   "source": [
    "a.pop()"
   ]
  },
  {
   "cell_type": "code",
   "execution_count": 88,
   "id": "a41d4a1c-9a13-498a-bdbe-961a42effb3c",
   "metadata": {},
   "outputs": [
    {
     "data": {
      "text/plain": [
       "[66, 23, 10, 8, 7, 6, 5, 4, 1, 22, 'H', 'a', 'm', 'n']"
      ]
     },
     "execution_count": 88,
     "metadata": {},
     "output_type": "execute_result"
    }
   ],
   "source": [
    "a"
   ]
  },
  {
   "cell_type": "code",
   "execution_count": 89,
   "id": "6625ea5f-b2da-4f3b-af99-79b3b5f90de5",
   "metadata": {},
   "outputs": [
    {
     "data": {
      "text/plain": [
       "[66, 23, 10, 8, 7, 6, 5, 4, 1, 22, 'H', 'a', 'm', 'n', 'a']"
      ]
     },
     "execution_count": 89,
     "metadata": {},
     "output_type": "execute_result"
    }
   ],
   "source": [
    "b"
   ]
  },
  {
   "cell_type": "code",
   "execution_count": 90,
   "id": "eb335cd1-797c-476f-94ab-5ea51eec7060",
   "metadata": {},
   "outputs": [],
   "source": [
    "a.clear()"
   ]
  },
  {
   "cell_type": "code",
   "execution_count": null,
   "id": "c36ab7c6-dc10-4197-af42-b5ba31b1abb2",
   "metadata": {},
   "outputs": [],
   "source": []
  }
 ],
 "metadata": {
  "kernelspec": {
   "display_name": "Python 3 (ipykernel)",
   "language": "python",
   "name": "python3"
  },
  "language_info": {
   "codemirror_mode": {
    "name": "ipython",
    "version": 3
   },
   "file_extension": ".py",
   "mimetype": "text/x-python",
   "name": "python",
   "nbconvert_exporter": "python",
   "pygments_lexer": "ipython3",
   "version": "3.13.2"
  }
 },
 "nbformat": 4,
 "nbformat_minor": 5
}
